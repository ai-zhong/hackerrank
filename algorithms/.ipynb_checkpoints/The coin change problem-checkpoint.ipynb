{
 "cells": [
  {
   "cell_type": "code",
   "execution_count": 6,
   "metadata": {},
   "outputs": [
    {
     "name": "stdout",
     "output_type": "stream",
     "text": [
      "count is:3\n"
     ]
    }
   ],
   "source": [
    "n = 10\n",
    "m = 4\n",
    "c = [2, 5, 3, 6]\n",
    "C = sorted(c)\n",
    "\n",
    "count = 0\n",
    "for i in range(4):\n",
    "    if n%C[i] == 0:\n",
    "        count+=1\n",
    "        continue\n",
    "    if n%C[i] in C:\n",
    "        count+=1\n",
    "        continue\n",
    "    else:\n",
    "        extra = n%C[i]\n",
    "        for j in C:\n",
    "            if extra%j == 0:\n",
    "                count+=1\n",
    "            else:\n",
    "                continue\n",
    "        \n",
    "print('count is:'+str(count))"
   ]
  },
  {
   "cell_type": "code",
   "execution_count": 14,
   "metadata": {},
   "outputs": [
    {
     "name": "stdout",
     "output_type": "stream",
     "text": [
      "20 4\n",
      "4 5 8 10\n",
      "6\n"
     ]
    }
   ],
   "source": [
    "import sys\n",
    "\n",
    "count_dict = {}\n",
    "\n",
    "def count(sum_, coins):\n",
    "    if len(coins) == 0:\n",
    "        return 0\n",
    "    if sum_ < 0:\n",
    "        return 0\n",
    "    if sum_ == 0:\n",
    "        return 1\n",
    "\n",
    "    key = (sum_, tuple(coins))\n",
    "    if key not in count_dict:\n",
    "        count_dict[key] = count(sum_ - coins[0], coins) + count(sum_, coins[1:])\n",
    "    return count_dict[key]\n",
    "\n",
    "if __name__ == \"__main__\":\n",
    "    n, m = input().strip().split(' ')\n",
    "    n, m = [int(n), int(m)]\n",
    "    c = list(map(int, input().strip().split(' ')))\n",
    "    # Print the number of ways of making change for 'n' units using coins having the values given by 'c'\n",
    "    print(count(n, c)) "
   ]
  },
  {
   "cell_type": "code",
   "execution_count": 19,
   "metadata": {},
   "outputs": [
    {
     "data": {
      "text/plain": [
       "52"
      ]
     },
     "execution_count": 19,
     "metadata": {},
     "output_type": "execute_result"
    }
   ],
   "source": [
    "n=30\n",
    "c = [2,5,3,6]\n",
    "\n",
    "key =(n, tuple(c))\n",
    "count(n-c[0], c)+count(n, c[1:])"
   ]
  }
 ],
 "metadata": {
  "kernelspec": {
   "display_name": "Python 3",
   "language": "python",
   "name": "python3"
  },
  "language_info": {
   "codemirror_mode": {
    "name": "ipython",
    "version": 3
   },
   "file_extension": ".py",
   "mimetype": "text/x-python",
   "name": "python",
   "nbconvert_exporter": "python",
   "pygments_lexer": "ipython3",
   "version": "3.6.2"
  }
 },
 "nbformat": 4,
 "nbformat_minor": 2
}
