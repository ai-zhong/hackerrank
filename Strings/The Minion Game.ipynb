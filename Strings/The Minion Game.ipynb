{
 "cells": [
  {
   "cell_type": "code",
   "execution_count": 12,
   "metadata": {},
   "outputs": [
    {
     "name": "stdout",
     "output_type": "stream",
     "text": [
      "Stuart 12\n"
     ]
    }
   ],
   "source": [
    "string = 'BANANA'\n",
    "list_s = list(string)\n",
    "vow = ['A', 'E', 'I', 'O', 'U']\n",
    "kevin = 0\n",
    "stuart = 0\n",
    "\n",
    "for i in range(len(list_s)):\n",
    "    if list_s[i] in vow:\n",
    "        kevin += len(list_s) - i\n",
    "    else:\n",
    "        stuart += len(list_s) - i\n",
    "        \n",
    "if stuart > kevin:\n",
    "    print('Stuart %i' %stuart)\n",
    "elif stuart < kevin:\n",
    "    print('Kevin %i' %kevin)\n",
    "else:\n",
    "    print('Draw')"
   ]
  },
  {
   "cell_type": "code",
   "execution_count": null,
   "metadata": {},
   "outputs": [],
   "source": []
  }
 ],
 "metadata": {
  "kernelspec": {
   "display_name": "Python 3",
   "language": "python",
   "name": "python3"
  },
  "language_info": {
   "codemirror_mode": {
    "name": "ipython",
    "version": 3
   },
   "file_extension": ".py",
   "mimetype": "text/x-python",
   "name": "python",
   "nbconvert_exporter": "python",
   "pygments_lexer": "ipython3",
   "version": "3.6.2"
  }
 },
 "nbformat": 4,
 "nbformat_minor": 2
}
